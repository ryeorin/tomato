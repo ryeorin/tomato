{
 "cells": [
  {
   "cell_type": "code",
   "execution_count": null,
   "metadata": {},
   "outputs": [],
   "source": [
    "#  -------------------------------------------\n",
    "\"\"\"\n",
    "입출력 양식을 \n",
    "준수해 주십시오\n",
    "\n",
    "###  INPUT ###\n",
    "import pandas as pd\n",
    "input_data = pd.read_csv('2023_smartFarm_AI_hackathon_dataset.csv')\n",
    "\n",
    "{\n",
    "    \n",
    "    Write codes...\n",
    "    \n",
    "    Training model name : model\n",
    "    ex) y_pred = model.predict(X_test)\n",
    "\n",
    "}\n",
    "\n",
    "\n",
    "### OUTPUT ###\n",
    "print(\"RMSE:\", rmse)\n",
    "print(\"R2_score:\", r2score)\n",
    "\"\"\""
   ]
  },
  {
   "cell_type": "code",
   "execution_count": null,
   "metadata": {},
   "outputs": [],
   "source": [
    "###  INPUT ###\n",
    "import pandas as pd\n",
    "import numpy as np\n",
    "from sklearn.multioutput import MultiOutputRegressor\n",
    "from sklearn.model_selection import train_test_split\n",
    "from sklearn.ensemble import ExtraTreesRegressor\n",
    "input_data = pd.read_csv('2023_smartFarm_AI_hackathon_dataset.csv')"
   ]
  },
  {
   "cell_type": "code",
   "execution_count": null,
   "metadata": {},
   "outputs": [],
   "source": [
    "#    Write codes...\n",
    "# 날짜 데이터를 datetime 형식으로 변환\n",
    "input_data['date1'] = pd.to_datetime(input_data['date'], format=\"%Y%m%d\")\n",
    "\n",
    "# inTp, outTp가 0.0인 것들 중앙값으로 채움\n",
    "input_data[\"inTp\"]=input_data['inTp'].replace(0,input_data['inTp'].median())\n",
    "input_data[\"outTp\"]=input_data['outTp'].replace(0,input_data['inTp'].median())\n",
    "\n",
    "\n",
    "# '초장' 열이 0인 행을 찾아서 값을 채워줌\n",
    "for i in range(1, len(input_data)):\n",
    "    if input_data.at[i, 'pllnLt'] == 0:\n",
    "        # 현재 주차의 날짜에서 7일 전 날짜 계산\n",
    "        current_date = pd.to_datetime(input_data.at[i, 'date1'])\n",
    "        last_week_start_date = current_date - pd.DateOffset(weeks=1) - pd.DateOffset(days=6)\n",
    "        yesterday = current_date - pd.DateOffset(days=1)\n",
    "\n",
    "        # 'last_week_start_date'부터 'yesterday'까지의 날 중에서 '초장' 값이 있는 최근 날짜의 '초장' 값을 가져오기\n",
    "        recent_chojang = input_data[(input_data['date1'] >= last_week_start_date.strftime('%Y-%m-%d')) & (input_data['date1'] <= yesterday.strftime('%Y-%m-%d'))]['pllnLt'].max()\n",
    "\n",
    "        # '초장' 열 값을 최근 '초장' 값 + 'grwtLt' 값으로 채워줌\n",
    "        input_data.at[i, 'pllnLt'] = recent_chojang + input_data.at[i, 'grwtLt']\n",
    "\n",
    "input_data['pllnLt'].fillna(0, inplace=True)\n",
    "\n",
    "x = input_data[['date', 'outTp', 'frmWeek', 'cunt', 'outWs', 'acSlrdQy', 'hvstGrupp',\n",
    "                'MistUsageTime', 'WaterUsage', 'FertilizerUsage','inTp', 'pllnLt']]\n",
    "y = input_data[['outtrn_cumsum', 'HeatingEnergyUsage_cumsum']]\n",
    "X_train, X_test, y_train, y_test = train_test_split(x, y, test_size=0.2)\n",
    "\n",
    "model = ExtraTreesRegressor(n_estimators=50)\n",
    "model = MultiOutputRegressor(model)\n",
    "\n",
    "model.fit(X_train, y_train)\n",
    "y_pred = model.predict(X_test)\n",
    "\n",
    "def calculate_rmse(targets, predictions):\n",
    "    from sklearn.metrics import mean_squared_error\n",
    "    return np.sqrt(mean_squared_error(targets, predictions))\n",
    "\n",
    "def calculate_R2_score(y_test, y_pred):\n",
    "    from sklearn.metrics import r2_score\n",
    "    return r2_score(y_test, y_pred)\n",
    "\n",
    "rmse = calculate_rmse(y_test, y_pred)\n",
    "r2score = calculate_R2_score(y_test, y_pred)"
   ]
  },
  {
   "cell_type": "code",
   "execution_count": null,
   "metadata": {},
   "outputs": [],
   "source": [
    "### OUTPUT ###\n",
    "print(\"RMSE:\", rmse)\n",
    "print(\"R2_score:\", r2score)\n"
   ]
  }
 ],
 "metadata": {
  "kernelspec": {
   "display_name": "Python 3",
   "language": "python",
   "name": "python3"
  },
  "language_info": {
   "name": "python",
   "version": "3.11.4"
  },
  "orig_nbformat": 4
 },
 "nbformat": 4,
 "nbformat_minor": 2
}
